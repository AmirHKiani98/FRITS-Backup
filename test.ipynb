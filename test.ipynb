{
 "cells": [
  {
   "cell_type": "code",
   "execution_count": 9,
   "metadata": {},
   "outputs": [
    {
     "data": {
      "text/plain": [
       "[{'1': 10, '2': 20, '3': 40},\n",
       " {'1': 10, '2': 20, '3': 40},\n",
       " {'1': 10, '2': 20, '3': 40},\n",
       " {'1': 10, '2': 20, '3': 40},\n",
       " {'1': 10, '2': 20, '3': 40}]"
      ]
     },
     "execution_count": 9,
     "metadata": {},
     "output_type": "execute_result"
    }
   ],
   "source": [
    "import pandas as pd\n",
    "reward = {\"1\": 10, \"2\":20, \"3\": 40}\n",
    "all_rewards = [reward for _ in range(5)]\n",
    "all_rewards"
   ]
  },
  {
   "cell_type": "code",
   "execution_count": 8,
   "metadata": {},
   "outputs": [
    {
     "data": {
      "text/plain": [
       "116.66666666666667"
      ]
     },
     "execution_count": 8,
     "metadata": {},
     "output_type": "execute_result"
    }
   ],
   "source": [
    "pd.DataFrame(all_rewards).sum().mean()"
   ]
  },
  {
   "cell_type": "code",
   "execution_count": 20,
   "metadata": {},
   "outputs": [
    {
     "name": "stdout",
     "output_type": "stream",
     "text": [
      "Policy loaded successfully from ./saved_q/agent_i_cr30_101.pkl\n"
     ]
    }
   ],
   "source": [
    "# -*- coding: utf-8 -*-\n",
    "\"\"\"\n",
    "Created on Thu Apr 11 12:11:49 2024\n",
    "\n",
    "@author: naftabi\n",
    "\"\"\"\n",
    "\n",
    "import torch\n",
    "import torch.nn as nn\n",
    "import torch.optim as optim\n",
    "\n",
    "import random\n",
    "\n",
    "from utils import Memory\n",
    "from model import QNetwork\n",
    "\n",
    "class DQLAgent:\n",
    "    def __init__(self, \n",
    "                 state_dim: int, \n",
    "                 action_dim: int, \n",
    "                 hidden_dim: int = 64, \n",
    "                 lr: float = 1e-4, \n",
    "                 gamma: float = 0.99,\n",
    "                 tau: float = 0.05,\n",
    "                 update_every: int = 20,\n",
    "                 epsilon_start: float = 0.9,\n",
    "                 epsilon_end: float = 0.05,\n",
    "                 epsilon_decay: float = 0.995,\n",
    "                 buffer_size: int = 10000,\n",
    "                 seed: int = None):\n",
    "        \n",
    "        if seed is not None:\n",
    "            random.seed(seed)\n",
    "            torch.manual_seed(seed)\n",
    "            torch.cuda.manual_seed(seed)\n",
    "            torch.cuda.manual_seed_all(seed)\n",
    "        \n",
    "        self.gamma = gamma\n",
    "        self.tau = tau\n",
    "        self.state_dim = state_dim\n",
    "        self.action_dim = action_dim\n",
    "        self.step_count = 0\n",
    "        self.update_every = update_every\n",
    "        self.epsilon = epsilon_start\n",
    "        self.epsilon_end = epsilon_end\n",
    "        self.epsilon_decay = epsilon_decay\n",
    "        \n",
    "        # Networks\n",
    "        self.q_network = QNetwork(state_dim, action_dim, hidden_dim)\n",
    "        self.target_q_network = QNetwork(state_dim, action_dim, hidden_dim)\n",
    "        self.target_q_network.load_state_dict(self.q_network.state_dict())\n",
    "        self.target_q_network.eval()\n",
    "        \n",
    "        self.optimizer = optim.RMSprop(self.q_network.parameters(), lr=lr)\n",
    "        self.memory = Memory(buffer_size)\n",
    "        self.criterion = nn.MSELoss()\n",
    "        \n",
    "    def update_epsilon(self):\n",
    "        # Decay epsilon\n",
    "        self.epsilon = max(self.epsilon_end, self.epsilon_decay * self.epsilon)  \n",
    "        \n",
    "    def act(self, state):\n",
    "        self.q_network.eval()\n",
    "        if random.random() > self.epsilon:\n",
    "            state = torch.FloatTensor(state).unsqueeze(0)\n",
    "            with torch.no_grad():\n",
    "                q_value = self.q_network.forward(state)\n",
    "            action = q_value.max(1)[1].item()\n",
    "        else:\n",
    "            action = random.randrange(self.action_dim)\n",
    "        self.update_epsilon()\n",
    "        return action\n",
    "    \n",
    "    def update(self, batch_size):\n",
    "        self.q_network.train()\n",
    "        state, action, reward, next_state = self.memory.sample(batch_size)\n",
    "        state = torch.FloatTensor(state)\n",
    "        next_state = torch.FloatTensor(next_state)\n",
    "        action = torch.LongTensor(action)\n",
    "        reward = torch.FloatTensor(reward)\n",
    "        \n",
    "        q_values = self.q_network(state)\n",
    "        with torch.no_grad():\n",
    "            next_q_values = self.q_network(next_state)\n",
    "        \n",
    "        q_value = q_values.gather(1, action.unsqueeze(1)).squeeze(1)\n",
    "        max_next_q_value = next_q_values.max(1)[0]\n",
    "        expected_q_value = reward + self.gamma * max_next_q_value \n",
    "        \n",
    "        loss = self.criterion(q_value, expected_q_value)\n",
    "        \n",
    "        self.optimizer.zero_grad()\n",
    "        loss.backward()\n",
    "        self.optimizer.step()\n",
    "        \n",
    "        self.step_count += 1\n",
    "        if self.step_count % self.update_every == 0:\n",
    "            for target_params, params in zip(self.target_q_network.parameters(), self.q_network.parameters()):\n",
    "                target_params.data.copy_(self.tau * params.data + (1.0 - self.tau) * target_params.data)\n",
    "                \n",
    "    def load_policy(self, idx):\n",
    "        filepath = f'./saved_q/agent_{idx}.pkl'\n",
    "        try:\n",
    "            state_dict = torch.load(filepath, map_location=torch.device('cpu'))\n",
    "            self.q_network.load_state_dict(state_dict)\n",
    "        except FileNotFoundError:\n",
    "            raise Exception(f\"Error: Policy file not found at {filepath}\")\n",
    "            \n",
    "\n",
    "agent = DQLAgent(16, 4, hidden_dim=128)\n",
    "agent.load_policy(\"i_cr30_101\")"
   ]
  },
  {
   "cell_type": "code",
   "execution_count": 5,
   "metadata": {},
   "outputs": [],
   "source": [
    "state_dict = torch.load(\"./saved_q/agent_i_cr30_101.pkl\", map_location=torch.device('cpu'))"
   ]
  },
  {
   "cell_type": "code",
   "execution_count": 16,
   "metadata": {},
   "outputs": [
    {
     "data": {
      "text/plain": [
       "torch.Size([128, 16])"
      ]
     },
     "execution_count": 16,
     "metadata": {},
     "output_type": "execute_result"
    }
   ],
   "source": [
    "state_dict[\"fc1.weight\"]"
   ]
  },
  {
   "cell_type": "code",
   "execution_count": null,
   "metadata": {},
   "outputs": [],
   "source": []
  }
 ],
 "metadata": {
  "kernelspec": {
   "display_name": "base",
   "language": "python",
   "name": "python3"
  },
  "language_info": {
   "codemirror_mode": {
    "name": "ipython",
    "version": 3
   },
   "file_extension": ".py",
   "mimetype": "text/x-python",
   "name": "python",
   "nbconvert_exporter": "python",
   "pygments_lexer": "ipython3",
   "version": "3.11.5"
  }
 },
 "nbformat": 4,
 "nbformat_minor": 2
}
